{
 "cells": [
  {
   "cell_type": "code",
   "execution_count": 1,
   "metadata": {},
   "outputs": [
    {
     "name": "stdout",
     "output_type": "stream",
     "text": [
      "Ready\n"
     ]
    }
   ],
   "source": [
    "import os\n",
    "import cv2\n",
    "import time\n",
    "import torch\n",
    "import random\n",
    "import numpy as np\n",
    "from datetime import datetime\n",
    "import albumentations as augs\n",
    "from tqdm.notebook import tqdm\n",
    "from matplotlib import pyplot as plt\n",
    "from torch.utils.data import DataLoader\n",
    "from torch.utils.tensorboard import SummaryWriter\n",
    "\n",
    "from train import *\n",
    "from models import *\n",
    "from datasets import *\n",
    "from evaluation import *\n",
    "\n",
    "\n",
    "print('Ready')"
   ]
  },
  {
   "cell_type": "code",
   "execution_count": 2,
   "metadata": {},
   "outputs": [
    {
     "name": "stdout",
     "output_type": "stream",
     "text": [
      "Data augmentation transforms created.\n"
     ]
    }
   ],
   "source": [
    "# Data augmentation transforms\n",
    "geometric_transform=augs.ShiftScaleRotate(scale_limit=0.2, rotate_limit=50, p=0.5,\n",
    "                                          border_mode=cv2.BORDER_CONSTANT)\n",
    "content_transform=augs.Compose([augs.Blur(p=0.5), augs.ColorJitter(0.3, 0.3, 0.3, 0,3, p=1.0),\n",
    "                                augs.ImageCompression(quality_lower=30, p=0.5),\n",
    "                                augs.CoarseDropout(min_holes=1, max_holes=8,\n",
    "                                                   min_width=0.03125, min_height=0.03125,\n",
    "                                                   max_width=0.125, max_height=0.125, p=0.5)])\n",
    "print('Data augmentation transforms created.')"
   ]
  },
  {
   "cell_type": "code",
   "execution_count": 3,
   "metadata": {},
   "outputs": [
    {
     "name": "stdout",
     "output_type": "stream",
     "text": [
      "300W training set contains has 10458 examples.\n",
      "300W indoor training set contains has 7310 examples.\n",
      "300W outdoor training set contains has 3148 examples.\n",
      "300W-LP training set contains has 180689 examples.\n",
      "300W-LP indoor training set contains has 130364 examples.\n",
      "300W-LP outdoor training set contains has 50325 examples.\n",
      "300W validations set contains has 689 examples.\n",
      "300W-LP validations set contains has 10758 examples.\n",
      "300W test set contains has 600 examples.\n",
      "300W indoor test set contains has 300 examples.\n",
      "300W outdoor test set contains has 300 examples.\n"
     ]
    }
   ],
   "source": [
    "# Prepare datasets\n",
    "trainset = LandmarkDataset('./data/300w.tsv', LandmarkDataset.get_partitions('300w', 'train'),\n",
    "                           geometric_transform=geometric_transform, content_transform=content_transform,\n",
    "                           random_flip=True)\n",
    "trainset_indoor = LandmarkDataset('./data/300w.tsv', [('frgc', ''), ('xm2vts', '')],\n",
    "                                  geometric_transform=geometric_transform, content_transform=content_transform,\n",
    "                                  random_flip=True)\n",
    "trainset_outdoor = LandmarkDataset('./data/300w.tsv', [('afw', ''), ('helen', 'trainset'), ('lfpw', 'trainset')],\n",
    "                                   geometric_transform=geometric_transform, content_transform=content_transform,\n",
    "                                   random_flip=True)\n",
    "print(f\"300W training set contains has {len(trainset)} examples.\")\n",
    "print(f\"300W indoor training set contains has {len(trainset_indoor)} examples.\")\n",
    "print(f\"300W outdoor training set contains has {len(trainset_outdoor)} examples.\")\n",
    "\n",
    "trainset_lp = LandmarkDataset('./data/300w_lp.tsv', LandmarkDataset.get_partitions('300w_lp', 'train'),\n",
    "                              geometric_transform=geometric_transform, content_transform=content_transform,\n",
    "                              random_flip=True)\n",
    "trainset_lp_indoor = LandmarkDataset('./data/300w_lp.tsv', [('frgc', ''), ('xm2vts', '')],\n",
    "                                     geometric_transform=geometric_transform, content_transform=content_transform,\n",
    "                                     random_flip=True)\n",
    "trainset_lp_outdoor = LandmarkDataset('./data/300w_lp.tsv', [('afw', ''), ('helen', 'trainset'), ('lfpw', 'trainset')],\n",
    "                                      geometric_transform=geometric_transform, content_transform=content_transform,\n",
    "                                      random_flip=True)\n",
    "print(f\"300W-LP training set contains has {len(trainset_lp)} examples.\")\n",
    "print(f\"300W-LP indoor training set contains has {len(trainset_lp_indoor)} examples.\")\n",
    "print(f\"300W-LP outdoor training set contains has {len(trainset_lp_outdoor)} examples.\")\n",
    "\n",
    "valset = LandmarkDataset('./data/300w.tsv', LandmarkDataset.get_partitions('300w', 'val'))\n",
    "valset_lp = LandmarkDataset('./data/300w_lp.tsv', LandmarkDataset.get_partitions('300w_lp', 'val'))\n",
    "print(f\"300W validations set contains has {len(valset)} examples.\")\n",
    "print(f\"300W-LP validations set contains has {len(valset_lp)} examples.\")\n",
    "\n",
    "testset = LandmarkDataset('./data/300w.tsv', LandmarkDataset.get_partitions('300w', 'test'))\n",
    "testset_indoor = LandmarkDataset('./data/300w.tsv', [('300W', '01_Indoor')])\n",
    "testset_outdoor = LandmarkDataset('./data/300w.tsv', [('300W', '02_Outdoor')])\n",
    "print(f\"300W test set contains has {len(testset)} examples.\")\n",
    "print(f\"300W indoor test set contains has {len(testset_indoor)} examples.\")\n",
    "print(f\"300W outdoor test set contains has {len(testset_outdoor)} examples.\")"
   ]
  },
  {
   "cell_type": "markdown",
   "metadata": {},
   "source": [
    "## Experiment 1: Train FAN2 on 300W for 10 epochs\n",
    "This is just to make sure that everything works"
   ]
  },
  {
   "cell_type": "code",
   "execution_count": 4,
   "metadata": {},
   "outputs": [
    {
     "name": "stdout",
     "output_type": "stream",
     "text": [
      "Data loaders created.\n"
     ]
    },
    {
     "name": "stderr",
     "output_type": "stream",
     "text": [
      "/home/hhj/anaconda3/envs/py37misc/lib/python3.7/site-packages/torch/nn/parallel/data_parallel.py:30: UserWarning: \n",
      "    There is an imbalance between your GPUs. You may want to exclude GPU 1 which\n",
      "    has less than 75% of the memory or cores of GPU 0. You can do so by setting\n",
      "    the device_ids argument to DataParallel, or by setting the CUDA_VISIBLE_DEVICES\n",
      "    environment variable.\n",
      "  warnings.warn(imbalance_warn.format(device_ids[min_pos], device_ids[max_pos]))\n"
     ]
    },
    {
     "name": "stdout",
     "output_type": "stream",
     "text": [
      "Network initialised.\n",
      "Optimiser created.\n",
      "LR scheduler created.\n"
     ]
    },
    {
     "data": {
      "application/vnd.jupyter.widget-view+json": {
       "model_id": "4f464291901746a4a3d7e3c402ba0f47",
       "version_major": 2,
       "version_minor": 0
      },
      "text/plain": [
       "Epoch: 0it [00:00, ?it/s]"
      ]
     },
     "metadata": {},
     "output_type": "display_data"
    },
    {
     "data": {
      "application/vnd.jupyter.widget-view+json": {
       "model_id": "6073d94458c34ece933e6efb6993acba",
       "version_major": 2,
       "version_minor": 0
      },
      "text/plain": [
       "Train batch: 0it [00:00, ?it/s]"
      ]
     },
     "metadata": {},
     "output_type": "display_data"
    },
    {
     "data": {
      "application/vnd.jupyter.widget-view+json": {
       "model_id": "2dea8660231047aeba24f8808597546f",
       "version_major": 2,
       "version_minor": 0
      },
      "text/plain": [
       "Validation batch: 0it [00:00, ?it/s]"
      ]
     },
     "metadata": {},
     "output_type": "display_data"
    },
    {
     "name": "stdout",
     "output_type": "stream",
     "text": [
      "Training finished, checkpoint saved to: ./checkpoints/exp_01_fan2_300w_2021-10-24_22-43-20.623_utc.ckpt\n",
      "Best weights loaded using snapshot saved at epoch #10.000\n"
     ]
    },
    {
     "data": {
      "application/vnd.jupyter.widget-view+json": {
       "model_id": "58b22632a5a24769ba927446b2c7cb59",
       "version_major": 2,
       "version_minor": 0
      },
      "text/plain": [
       "Test batch: 0it [00:00, ?it/s]"
      ]
     },
     "metadata": {},
     "output_type": "display_data"
    },
    {
     "data": {
      "application/vnd.jupyter.widget-view+json": {
       "model_id": "1528737b29a2445da027ad98149423ab",
       "version_major": 2,
       "version_minor": 0
      },
      "text/plain": [
       "Test batch (indoor): 0it [00:00, ?it/s]"
      ]
     },
     "metadata": {},
     "output_type": "display_data"
    },
    {
     "data": {
      "application/vnd.jupyter.widget-view+json": {
       "model_id": "3cebd3ddb53d4deb935a613419df1ea9",
       "version_major": 2,
       "version_minor": 0
      },
      "text/plain": [
       "Test batch (outdoor): 0it [00:00, ?it/s]"
      ]
     },
     "metadata": {},
     "output_type": "display_data"
    },
    {
     "data": {
      "image/png": "[encoded data removed]",
      "text/plain": [
       "<Figure size 576x432 with 1 Axes>"
      ]
     },
     "metadata": {
      "needs_background": "light"
     },
     "output_type": "display_data"
    }
   ],
   "source": [
    "# Create data loaders\n",
    "trainset_loader = DataLoader(trainset, batch_size=32, shuffle=True, num_workers=32, pin_memory=True)\n",
    "valset_loader = DataLoader(valset, batch_size=16, shuffle=False, num_workers=32, pin_memory=True)\n",
    "testset_loader = DataLoader(testset, batch_size=16, shuffle=False, num_workers=32, pin_memory=True)\n",
    "testset_indoor_loader = DataLoader(testset_indoor, batch_size=16, shuffle=False, num_workers=32, pin_memory=True)\n",
    "testset_outdoor_loader = DataLoader(testset_outdoor, batch_size=16, shuffle=False, num_workers=32, pin_memory=True)\n",
    "print('Data loaders created.')\n",
    "\n",
    "# Create the model\n",
    "fan = FAN(FAN.create_config(num_modules=2, use_avg_pool=False))\n",
    "fan = torch.nn.DataParallel(fan).cuda()\n",
    "print('Network initialised.')\n",
    "\n",
    "# Create the optimiser\n",
    "optimiser = torch.optim.RMSprop(fan.parameters(), lr=5e-4, momentum=0.9, weight_decay=0.0)\n",
    "print('Optimiser created.')\n",
    "\n",
    "# Create the learning rate scheduler\n",
    "lr_scheduler = torch.optim.lr_scheduler.StepLR(optimiser, step_size=15, gamma=0.5)\n",
    "print('LR scheduler created.')\n",
    "\n",
    "# Train the network\n",
    "with tqdm(desc='Epoch') as pbar1, tqdm(desc='Train batch') as pbar2, tqdm(desc='Validation batch') as pbar3:\n",
    "    ckpt_path = train_model(fan, optimiser, trainset_loader, valset_loader, 10, './logs', './checkpoints',\n",
    "                            f\"exp_01_fan2_300w_{datetime.utcnow().strftime('%Y-%m-%d_%H-%M-%S.%f')[:-3]}_utc\",\n",
    "                            lr_scheduler=lr_scheduler, val_per_epoch=2, save_top_k=5,\n",
    "                            htm_mse_loss_weight=1.0, lmk_dist_loss_weight=0.01,\n",
    "                            rank_by='val_weighted_macc', train_weight_norm=trainset.weight_norm,\n",
    "                            pbar_epochs=pbar1, pbar_train_batches=pbar2, pbar_val_batches=pbar3)\n",
    "torch.cuda.empty_cache()\n",
    "print(f\"Training finished, checkpoint saved to: {ckpt_path}\")\n",
    "\n",
    "# Load the best model\n",
    "ckpt = torch.load(ckpt_path, map_location='cuda:0')\n",
    "fan.module.load_state_dict(ckpt['best_snapshots'][0]['model_state_dict'])\n",
    "print(f\"Best weights loaded using snapshot saved at epoch #{ckpt['best_snapshots'][0]['epoch']:.3f}\")\n",
    "del ckpt\n",
    "torch.cuda.empty_cache()\n",
    "\n",
    "# Evaluate the model on the test set\n",
    "with torch.no_grad(), tqdm(desc='Test batch') as pbar:\n",
    "    test_results = run_model(fan, testset_loader, pbar=pbar)\n",
    "torch.cuda.empty_cache()\n",
    "with torch.no_grad(), tqdm(desc='Test batch (indoor)') as pbar:\n",
    "    test_results_indoor = run_model(fan, testset_indoor_loader, pbar=pbar)\n",
    "torch.cuda.empty_cache()\n",
    "with torch.no_grad(), tqdm(desc='Test batch (outdoor)') as pbar:\n",
    "    test_results_outdoor = run_model(fan, testset_outdoor_loader, pbar=pbar)\n",
    "torch.cuda.empty_cache()\n",
    "\n",
    "# Try to free some more GPU memory\n",
    "del lr_scheduler\n",
    "del optimiser\n",
    "del fan\n",
    "torch.cuda.empty_cache()\n",
    "\n",
    "# Compute AUC\n",
    "threshold = 0.07\n",
    "test_lmk_errors = compute_landmark_errors(\n",
    "    test_results['predicted_landmarks'].mean(axis=1), test_results['landmarks'])\n",
    "test_lmk_bbox_sizes = get_bbox_sizes(test_results['landmark_bbox_corners'])[0]\n",
    "auc, errs, ticks = compute_auc(\n",
    "    test_lmk_errors, threshold, test_lmk_bbox_sizes)\n",
    "\n",
    "test_lmk_errors_indoor = compute_landmark_errors(\n",
    "    test_results_indoor['predicted_landmarks'].mean(axis=1), test_results_indoor['landmarks'])\n",
    "test_lmk_bbox_sizes_indoor = get_bbox_sizes(test_results_indoor['landmark_bbox_corners'])[0]\n",
    "auc_indoor, errs_indoor, ticks_indoor = compute_auc(\n",
    "    test_lmk_errors_indoor, threshold, test_lmk_bbox_sizes_indoor)\n",
    "\n",
    "test_lmk_errors_outdoor = compute_landmark_errors(\n",
    "    test_results_outdoor['predicted_landmarks'].mean(axis=1), test_results_outdoor['landmarks'])\n",
    "test_lmk_bbox_sizes_outdoor = get_bbox_sizes(test_results_outdoor['landmark_bbox_corners'])[0]\n",
    "auc_outdoor, errs_outdoor, ticks_outdoor = compute_auc(\n",
    "    test_lmk_errors_outdoor, threshold, test_lmk_bbox_sizes_outdoor)\n",
    "\n",
    "# Show results\n",
    "fig = plt.figure(figsize=(8, 6))\n",
    "plt.plot(errs, ticks, label=f\"Full testset, AUC@{threshold}={auc:.03f}\")\n",
    "plt.plot(errs_indoor, ticks_indoor, label=f\"Indoor subset, AUC@{threshold}={auc:.03f}\")\n",
    "plt.plot(errs_outdoor, ticks_outdoor, label=f\"Outdoor subset, AUC@{threshold}={auc:.03f}\")\n",
    "plt.title('CED on 300W (normalised by landmark bounding box size)')\n",
    "plt.xlim(0, threshold)\n",
    "plt.ylim(0, 1)\n",
    "plt.xlabel('Normalised distance error')\n",
    "plt.ylabel('Proportion')\n",
    "plt.legend()\n",
    "plt.grid('both')"
   ]
  }
 ],
 "metadata": {
  "kernelspec": {
   "display_name": "Python 3",
   "language": "python",
   "name": "python3"
  },
  "language_info": {
   "codemirror_mode": {
    "name": "ipython",
    "version": 3
   },
   "file_extension": ".py",
   "mimetype": "text/x-python",
   "name": "python",
   "nbconvert_exporter": "python",
   "pygments_lexer": "ipython3",
   "version": "3.7.4"
  }
 },
 "nbformat": 4,
 "nbformat_minor": 4
}
